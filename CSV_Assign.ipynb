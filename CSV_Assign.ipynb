{
 "cells": [
  {
   "cell_type": "code",
   "execution_count": 1,
   "id": "85faf04f-bdea-4dbb-8b75-480e787d6cae",
   "metadata": {},
   "outputs": [],
   "source": [
    "import csv"
   ]
  },
  {
   "cell_type": "code",
   "execution_count": 2,
   "id": "0ccb4879-5590-4682-9e1a-dc4c302d0add",
   "metadata": {},
   "outputs": [
    {
     "name": "stdout",
     "output_type": "stream",
     "text": [
      "ID,chrom,loc.start,loc.end\n",
      "TCGA-LQ-A4E4-01,1,3218610,34123298\n",
      "TCGA-LQ-A4E4-01,1,34127515,70924375\n",
      "TCGA-LQ-A4E4-01,1,70924781,70926472\n",
      "TCGA-LQ-A4E4-01,1,70927078,91949340\n",
      "TCGA-LQ-A4E4-01,1,91953305,91968382\n",
      "TCGA-LQ-A4E4-01,1,91969607,91972884\n",
      "TCGA-LQ-A4E4-01,1,91981484,92271920\n",
      "TCGA-LQ-A4E4-01,1,92273473,166910993\n",
      "TCGA-LQ-A4E4-01,1,166911149,176134978\n"
     ]
    }
   ],
   "source": [
    "# Specify the input file path\n",
    "input_file = 'brca_cnvs_tcga-1-2.csv'   \n",
    "\n",
    "# Open and read the file, displaying the first few rows\n",
    "with open(input_file, mode='r') as f:\n",
    "    for i, line in enumerate(f):\n",
    "        if i < 10:  # Display first 10 rows\n",
    "            print(line.strip())"
   ]
  },
  {
   "cell_type": "code",
   "execution_count": 3,
   "id": "e6470d05-b531-44b1-8090-5b2cce050ba0",
   "metadata": {},
   "outputs": [
    {
     "name": "stdout",
     "output_type": "stream",
     "text": [
      "The file 'brca_cnvs_tcga_with_lengths.csv' has been created with the new 'seq_length' column.\n"
     ]
    }
   ],
   "source": [
    "def calculate_segment_length(input_file: str, output_file: str):\n",
    "    # Open the input CSV file and create the output CSV file\n",
    "    with open(input_file, mode='r', newline='') as csv_in, open(output_file, mode='w', newline='') as csv_out:\n",
    "        reader = csv.DictReader(csv_in)\n",
    "        # Define the fieldnames for the output file including the new seq_length column\n",
    "        fieldnames = reader.fieldnames + ['seq_length']\n",
    "        writer = csv.DictWriter(csv_out, fieldnames=fieldnames)\n",
    "        \n",
    "        # Write the header row to the output file\n",
    "        writer.writeheader()\n",
    "        \n",
    "        # Process each row in the input file\n",
    "        for row in reader:\n",
    "            # Calculate the segment length\n",
    "            start = int(row['loc.start'])\n",
    "            end = int(row['loc.end'])\n",
    "            seq_length = end - start\n",
    "            \n",
    "            # Add the calculated length to the row\n",
    "            row['seq_length'] = seq_length\n",
    "            \n",
    "            # Write the row to the output file\n",
    "            writer.writerow(row)\n",
    "\n",
    "# Specify input and output file paths\n",
    "input_file = 'brca_cnvs_tcga-1-2.csv'   # Use the correct file path if different\n",
    "output_file = 'brca_cnvs_tcga_with_lengths.csv'\n",
    "\n",
    "# Run the function\n",
    "calculate_segment_length(input_file, output_file)\n",
    "\n",
    "# Confirmation message\n",
    "print(f\"The file '{output_file}' has been created with the new 'seq_length' column.\")"
   ]
  },
  {
   "cell_type": "code",
   "execution_count": 4,
   "id": "631dcd67-e2bf-400e-947f-31f4b2d2d3b1",
   "metadata": {},
   "outputs": [
    {
     "name": "stdout",
     "output_type": "stream",
     "text": [
      "ID,chrom,loc.start,loc.end,seq_length\n",
      "TCGA-LQ-A4E4-01,1,3218610,34123298,30904688\n",
      "TCGA-LQ-A4E4-01,1,34127515,70924375,36796860\n",
      "TCGA-LQ-A4E4-01,1,70924781,70926472,1691\n",
      "TCGA-LQ-A4E4-01,1,70927078,91949340,21022262\n",
      "TCGA-LQ-A4E4-01,1,91953305,91968382,15077\n",
      "TCGA-LQ-A4E4-01,1,91969607,91972884,3277\n",
      "TCGA-LQ-A4E4-01,1,91981484,92271920,290436\n",
      "TCGA-LQ-A4E4-01,1,92273473,166910993,74637520\n",
      "TCGA-LQ-A4E4-01,1,166911149,176134978,9223829\n"
     ]
    }
   ],
   "source": [
    "#Display the first few rows of the output file\n",
    "with open(output_file, mode='r') as f:\n",
    "    for i, line in enumerate(f):\n",
    "        if i < 10:  # Display first 10 rows\n",
    "            print(line.strip())"
   ]
  },
  {
   "cell_type": "code",
   "execution_count": null,
   "id": "48c0db29-01cf-42a5-be7c-9e6577f64050",
   "metadata": {},
   "outputs": [],
   "source": []
  }
 ],
 "metadata": {
  "kernelspec": {
   "display_name": "pybias-env",
   "language": "python",
   "name": "pybias-env"
  },
  "language_info": {
   "codemirror_mode": {
    "name": "ipython",
    "version": 3
   },
   "file_extension": ".py",
   "mimetype": "text/x-python",
   "name": "python",
   "nbconvert_exporter": "python",
   "pygments_lexer": "ipython3",
   "version": "3.9.20"
  }
 },
 "nbformat": 4,
 "nbformat_minor": 5
}
